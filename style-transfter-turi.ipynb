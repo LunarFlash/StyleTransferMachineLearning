{
 "cells": [
  {
   "cell_type": "code",
   "execution_count": 1,
   "metadata": {},
   "outputs": [],
   "source": [
    "import turicreate as tc"
   ]
  },
  {
   "cell_type": "code",
   "execution_count": 7,
   "metadata": {},
   "outputs": [],
   "source": [
    "style = tc.load_images('./trainingdata/style')\n",
    "content = tc.load_images('./trainingdata/content')"
   ]
  },
  {
   "cell_type": "code",
   "execution_count": null,
   "metadata": {},
   "outputs": [
    {
     "name": "stdout",
     "output_type": "stream",
     "text": [
      "Using 'image' in style_dataset as feature column and using 'image' in content_dataset as feature column\n",
      "Setting max_iterations to be 5000\n",
      "Downloading https://docs-assets.developer.apple.com/turicreate/models/resnet-16.params\n",
      "Download completed: /var/folders/yc/h9wc1t6n15z3njkfd3q1zk600000gp/T/model_cache/resnet-16.params\n",
      "Downloading https://docs-assets.developer.apple.com/turicreate/models/vgg16-conv1_1-4_3.params\n",
      "Download completed: /var/folders/yc/h9wc1t6n15z3njkfd3q1zk600000gp/T/model_cache/vgg16-conv1_1-4_3.params\n",
      "Using CPU to create model\n",
      "Analyzing visual features of the style images\n",
      "+--------------+--------------+--------------+\n",
      "| Iteration    | Loss         | Elapsed Time |\n",
      "+--------------+--------------+--------------+\n",
      "| 1            | 13.646       | 10.1         |\n",
      "| 2            | 13.681       | 38.0         |\n",
      "| 3            | 14.030       | 65.3         |\n",
      "| 4            | 13.881       | 92.9         |\n",
      "| 5            | 13.828       | 119.5        |\n",
      "| 6            | 13.792       | 149.6        |\n",
      "| 7            | 13.660       | 177.3        |\n",
      "| 8            | 13.627       | 204.6        |\n",
      "| 9            | 13.467       | 231.9        |\n",
      "| 10           | 13.548       | 259.6        |\n",
      "| 11           | 13.441       | 286.6        |\n",
      "| 12           | 13.296       | 314.8        |\n",
      "| 13           | 13.300       | 342.6        |\n",
      "| 14           | 13.224       | 371.7        |\n",
      "| 15           | 13.181       | 398.5        |\n",
      "| 16           | 13.042       | 425.7        |\n",
      "| 17           | 12.891       | 452.6        |\n",
      "| 18           | 12.968       | 479.9        |\n",
      "| 19           | 12.844       | 508.3        |\n",
      "| 20           | 12.747       | 535.1        |\n",
      "| 21           | 12.719       | 562.1        |\n",
      "| 22           | 12.588       | 588.7        |\n",
      "| 23           | 12.498       | 615.3        |\n",
      "| 24           | 12.485       | 641.7        |\n",
      "| 25           | 12.499       | 668.0        |\n",
      "| 26           | 12.549       | 694.1        |\n",
      "| 27           | 12.503       | 720.4        |\n",
      "| 28           | 12.394       | 748.0        |\n",
      "| 29           | 12.296       | 774.6        |\n",
      "| 30           | 12.572       | 801.1        |\n",
      "| 31           | 12.506       | 827.0        |\n",
      "| 32           | 12.405       | 852.9        |\n",
      "| 33           | 12.385       | 879.0        |\n",
      "| 34           | 12.222       | 905.5        |\n",
      "| 35           | 12.076       | 932.2        |\n",
      "| 36           | 12.100       | 960.1        |\n",
      "| 37           | 12.036       | 988.3        |\n",
      "| 38           | 12.074       | 1016.8       |\n",
      "| 39           | 11.953       | 1045.8       |\n",
      "| 40           | 11.907       | 1072.9       |\n",
      "| 41           | 11.764       | 1099.1       |\n",
      "| 42           | 11.756       | 1125.0       |\n",
      "| 43           | 11.679       | 1150.9       |\n",
      "| 44           | 11.609       | 1176.5       |\n",
      "| 45           | 11.701       | 1202.5       |\n",
      "| 46           | 11.598       | 1228.3       |\n",
      "| 47           | 11.668       | 1255.5       |\n",
      "| 48           | 11.537       | 1281.3       |\n",
      "| 49           | 11.469       | 1307.1       |\n",
      "| 50           | 11.339       | 1332.9       |\n",
      "| 51           | 11.270       | 1359.0       |\n",
      "| 52           | 11.318       | 1385.2       |\n",
      "| 53           | 11.173       | 1410.7       |\n",
      "| 54           | 11.157       | 1436.5       |\n",
      "| 55           | 11.130       | 1462.3       |\n",
      "| 56           | 11.144       | 1487.9       |\n",
      "| 57           | 11.069       | 1513.6       |\n",
      "| 58           | 11.111       | 1539.2       |\n",
      "| 59           | 11.040       | 1565.0       |\n",
      "| 60           | 11.094       | 1590.6       |\n",
      "| 61           | 11.005       | 1616.2       |\n",
      "| 62           | 10.974       | 1641.8       |\n",
      "| 63           | 10.842       | 1667.8       |\n"
     ]
    }
   ],
   "source": [
    "model = tc.style_transfer.create(style, content)"
   ]
  },
  {
   "cell_type": "code",
   "execution_count": null,
   "metadata": {},
   "outputs": [],
   "source": []
  }
 ],
 "metadata": {
  "kernelspec": {
   "display_name": "Python 2",
   "language": "python",
   "name": "python2"
  },
  "language_info": {
   "codemirror_mode": {
    "name": "ipython",
    "version": 2
   },
   "file_extension": ".py",
   "mimetype": "text/x-python",
   "name": "python",
   "nbconvert_exporter": "python",
   "pygments_lexer": "ipython2",
   "version": "2.7.15"
  }
 },
 "nbformat": 4,
 "nbformat_minor": 2
}
